{
 "cells": [
  {
   "cell_type": "code",
   "execution_count": 1,
   "metadata": {},
   "outputs": [],
   "source": [
    "import numpy as np\n",
    "import pandas as pd\n",
    "import matplotlib.pyplot as plt\n",
    "data = pd.read_csv('assignment_A_output', names=['bins', 'count'], delimiter='\\t')\n",
    "indexes=[]\n",
    "for i in (data.iloc[:, 0].values):\n",
    "    index = int(i.split('-')[0])\n",
    "    indexes.append(index)\n",
    "y = data.iloc[:, 1].values\n",
    "x = np.array(indexes)\n",
    "plt.bar(x, y, width=4)\n",
    "plt.xticks(x, data.iloc[:, 0].values, rotation='vertical')\n",
    "plt.margins(0.01)\n",
    "plt.subplots_adjust(bottom=0.2)\n",
    "plt.tight_layout()\n",
    "plt.savefig('hist_plot.png', dpi = 300)\n",
    "plt.close()"
   ]
  }
 ],
 "metadata": {
  "kernelspec": {
   "display_name": "Python 2",
   "language": "python",
   "name": "python2"
  },
  "language_info": {
   "codemirror_mode": {
    "name": "ipython",
    "version": 2
   },
   "file_extension": ".py",
   "mimetype": "text/x-python",
   "name": "python",
   "nbconvert_exporter": "python",
   "pygments_lexer": "ipython2",
   "version": "2.7.5"
  }
 },
 "nbformat": 4,
 "nbformat_minor": 2
}
