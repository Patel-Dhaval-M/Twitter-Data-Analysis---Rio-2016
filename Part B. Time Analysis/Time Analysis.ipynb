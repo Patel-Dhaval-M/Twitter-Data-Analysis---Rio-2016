{
 "cells": [
  {
   "cell_type": "code",
   "execution_count": 1,
   "metadata": {},
   "outputs": [],
   "source": [
    "import numpy as np\n",
    "import pandas as pd\n",
    "import matplotlib.pyplot as plt\n",
    "data = pd.read_csv('assignment_B_output', names=['hours', 'count'], delimiter='\\t')\n",
    "y = np.array(data.iloc[:, 1].values)\n",
    "x = np.array(data.iloc[:, 0].values)\n",
    "plt.bar(x, y)\n",
    "plt.xticks(x, data.iloc[:, 0].values, rotation='vertical')\n",
    "plt.savefig('Rio Tweet time analysis.png', dpi = 300)\n",
    "plt.close()"
   ]
  }
 ],
 "metadata": {
  "kernelspec": {
   "display_name": "Python 2",
   "language": "python",
   "name": "python2"
  },
  "language_info": {
   "codemirror_mode": {
    "name": "ipython",
    "version": 2
   },
   "file_extension": ".py",
   "mimetype": "text/x-python",
   "name": "python",
   "nbconvert_exporter": "python",
   "pygments_lexer": "ipython2",
   "version": "2.7.5"
  }
 },
 "nbformat": 4,
 "nbformat_minor": 2
}
